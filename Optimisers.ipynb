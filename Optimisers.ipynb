{
 "cells": [
  {
   "cell_type": "code",
   "execution_count": 11,
   "metadata": {},
   "outputs": [],
   "source": [
    "import numpy as np\n",
    "\n",
    "## Pressure Vessel Optimisation ##\n",
    "\n",
    "# There are 4 variables that describe a pressure vessel:\n",
    "# z1 = 0 # Shell thickness\n",
    "# z2 = 0 # Head thickness\n",
    "# x3 = 0 # Inner radius\n",
    "# x4 = 0 # vessel length (excluding head)\n",
    "\n",
    "# Our input variables:\n",
    "# x1,x2 = 0,0\n",
    "\n",
    "# Decision Vector:\n",
    "# np.array(x1,x2,x3,x4)\n",
    "\n",
    "\n",
    "\n",
    "\n",
    "\n",
    "# The shell head and thickness can be expressed as\n",
    "# z1 = 0.0625* x1\n",
    "# z2 = 0.0625* x2\n",
    "\n",
    "# Counter variables:\n",
    "objective_call_count = 0\n",
    "g1_call_count = 0\n",
    "g2_call_count = 0\n",
    "g3_call_count = 0\n",
    "g4_call_count = 0\n",
    "\n",
    "# Constraints:\n",
    "# x1, x2 are integers between 1 and 99 \n",
    "# x3, x4 are continuous values between 10 and 200\n",
    "\n",
    "\n"
   ]
  },
  {
   "cell_type": "code",
   "execution_count": 5,
   "metadata": {},
   "outputs": [],
   "source": [
    "def calculate_zs(xs):\n",
    "    z1 = (xs[0]*0.0625)\n",
    "    z2 = (xs[1]*0.0625)\n"
   ]
  },
  {
   "cell_type": "code",
   "execution_count": 9,
   "metadata": {},
   "outputs": [],
   "source": [
    "\n",
    "def objective(xs, z1, z2):\n",
    "    objective_call_count += 1\n",
    "    x3 = xs[2]\n",
    "    x4 = xs[3]\n",
    "\n",
    "    for x in xs:\n",
    "        xnew = ((1.7781)*(z2)*(x3**2)) + ((0.6224)*(z1)*(x3)*(x4)) + ((3.1661)*(z1**2)*(x4)) + ((19.84)*(z1**2)*(x3))\n"
   ]
  },
  {
   "cell_type": "code",
   "execution_count": null,
   "metadata": {},
   "outputs": [],
   "source": [
    "def g1(xs, z2):\n",
    "    g1_call_count += 1\n",
    "\n",
    "    if (xs[2]*0.00954 <= z2):\n",
    "        return True\n",
    "    else:\n",
    "        return False\n",
    "\n",
    "def g2(xs, z1):\n",
    "    g2_call_count += 1\n",
    "\n",
    "    if (xs[2]*0.0193 <= z1):\n",
    "        return True\n",
    "    else:\n",
    "        return False\n",
    "        \n",
    "def g3(xs):\n",
    "    g3_call_count += 1\n",
    "\n",
    "    if (xs(3) <= 240):\n",
    "        return True\n",
    "    else:\n",
    "        return False\n",
    "\n",
    "def g4(xs):\n",
    "    g4_call_count += 1\n",
    "\n",
    "    if((-1)*(np.pi)*(xs[2]**2)*(xs[3]) - ((4/3)*np.pi)*(xs[2]**3) <= -1296000):\n",
    "        return True\n",
    "    else:\n",
    "        return False"
   ]
  },
  {
   "cell_type": "code",
   "execution_count": null,
   "metadata": {},
   "outputs": [],
   "source": [
    "\n"
   ]
  }
 ],
 "metadata": {
  "interpreter": {
   "hash": "082e9a3bcad0a290d0001e938aa60b99250c6c2ef33a923c00b70f9826caf4b7"
  },
  "kernelspec": {
   "display_name": "",
   "language": "python",
   "name": "python3"
  },
  "language_info": {
   "codemirror_mode": {
    "name": "ipython",
    "version": 3
   },
   "file_extension": ".py",
   "mimetype": "text/x-python",
   "name": "python",
   "nbconvert_exporter": "python",
   "pygments_lexer": "ipython3",
   "version": "3.8.1"
  },
  "orig_nbformat": 4
 },
 "nbformat": 4,
 "nbformat_minor": 2
}
